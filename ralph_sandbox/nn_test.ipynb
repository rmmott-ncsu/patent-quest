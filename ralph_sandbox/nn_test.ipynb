{
 "cells": [
  {
   "cell_type": "code",
   "execution_count": 8,
   "metadata": {},
   "outputs": [],
   "source": [
    "import spacy\n",
    "import pandas as pd\n",
    "from nltk.corpus import stopwords\n",
    "nlp = spacy.load(\"en_core_web_md\")"
   ]
  },
  {
   "cell_type": "code",
   "execution_count": 9,
   "metadata": {},
   "outputs": [],
   "source": [
    "data_df = pd.read_csv('../patents/patents_csv/patents_2023.csv')\n",
    "data_list = list(data_df[\"patent_abstract\"])\n",
    "stop_words = set(stopwords.words('english'))\n",
    "\n",
    "clean_data = []"
   ]
  },
  {
   "cell_type": "code",
   "execution_count": 18,
   "metadata": {},
   "outputs": [
    {
     "name": "stdout",
     "output_type": "stream",
     "text": [
      "0.8974075835233779\n",
      "cultivating disc tillage implement includes attachment portion positioned radial center cultivating disc . attachment portion includes attachment features configured couple cultivating disc tillage implement axis rotation cultivating disc . attachment portion extends plane perpendicular axis rotation cultivating disc . cultivating disc includes cutting edge portion positioned distal end cultivating disc relative axis rotation . cutting edge portion extends second plane parallel plane . cultivating disc includes curved connecting portion positioned connecting attachment portion cutting edge portion . curved connecting portion defines radii curvature .\n",
      "scraper assembly split gauge wheel planter row unit . scraper assembly includes scraper blade having finger projection configured extend downwardly gap inner outer wheel members split gauge wheel . inner scraper flange extends laterally inward finger projection disposed proximity circumferential periphery inner wheel member . outer scraper flange extends laterally outward finger projection disposed proximity circumferential periphery outer wheel member . gauge wheel rotates , inner outer scraper flanges remove soil buildup circumferential periphery respective inner outer wheel members finger projection removes soil buildup gap inner outer wheel members .\n"
     ]
    }
   ],
   "source": [
    "sentence_1 = data_list[0]\n",
    "sentence_2 = data_list[1]\n",
    "\n",
    "\n",
    "nlp1 = [token for token in nlp(sentence_1) if not token.is_stop]\n",
    "nlp2 = [token for token in nlp(sentence_2) if not token.is_stop]  \n",
    "\n",
    "nlp1 = nlp(' '.join([token.text for token in nlp1]))\n",
    "nlp2 = nlp(' '.join([token.text for token in nlp2]))\n",
    "\n",
    "similarity = nlp1.similarity(nlp2)\n",
    "\n",
    "print(similarity)\n",
    "print(nlp1)\n",
    "print(nlp2)"
   ]
  },
  {
   "cell_type": "code",
   "execution_count": null,
   "metadata": {},
   "outputs": [],
   "source": [
    "print(clean_data)"
   ]
  },
  {
   "cell_type": "code",
   "execution_count": null,
   "metadata": {},
   "outputs": [],
   "source": []
  }
 ],
 "metadata": {
  "kernelspec": {
   "display_name": "desktop_venv",
   "language": "python",
   "name": "python3"
  },
  "language_info": {
   "codemirror_mode": {
    "name": "ipython",
    "version": 3
   },
   "file_extension": ".py",
   "mimetype": "text/x-python",
   "name": "python",
   "nbconvert_exporter": "python",
   "pygments_lexer": "ipython3",
   "version": "3.11.6"
  }
 },
 "nbformat": 4,
 "nbformat_minor": 2
}
